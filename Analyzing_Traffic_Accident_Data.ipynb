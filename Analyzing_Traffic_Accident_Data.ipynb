{
  "nbformat": 4,
  "nbformat_minor": 0,
  "metadata": {
    "colab": {
      "provenance": []
    },
    "kernelspec": {
      "name": "python3",
      "display_name": "Python 3"
    },
    "language_info": {
      "name": "python"
    }
  },
  "cells": [
    {
      "cell_type": "code",
      "source": [
        "import pandas as pd\n",
        "from datetime import datetime\n",
        "\n",
        "# Attempt to load the Excel file\n",
        "file_path = '/content/Road Accident Data 2021-2022.xlsx'\n",
        "\n",
        "try:\n",
        "    # Try reading the Excel file with openpyxl engine\n",
        "    df = pd.read_excel(file_path, engine='openpyxl')\n",
        "\n",
        "    # Check the first few rows to understand the structure of the dataset\n",
        "    print(df.head())\n",
        "\n",
        "    # Clean the dataset (remove rows with missing important data)\n",
        "    df = df.dropna(subset=[\"LATITUDE\", \"LONGITUDE\", \"DATE\", \"WEATHER_CONDITION\", \"ROAD_CONDITION\"])\n",
        "\n",
        "    # Convert 'DATE' column to datetime if it's not already\n",
        "    df['DATE'] = pd.to_datetime(df['DATE'])\n",
        "\n",
        "    # Extract time-related features: hour of the day, weekday\n",
        "    df['hour'] = df['DATE'].dt.hour\n",
        "    df['weekday'] = df['DATE'].dt.weekday\n",
        "\n",
        "    # Visualize accidents by weather condition\n",
        "    import matplotlib.pyplot as plt\n",
        "    import seaborn as sns\n",
        "\n",
        "    plt.figure(figsize=(12, 6))\n",
        "    sns.countplot(data=df, x='WEATHER_CONDITION', order=df['WEATHER_CONDITION'].value_counts().index)\n",
        "    plt.xticks(rotation=45, ha='right')\n",
        "    plt.title('Accidents by Weather Condition')\n",
        "    plt.show()\n",
        "\n",
        "    # Analyze accidents by time of day (hour)\n",
        "    plt.figure(figsize=(12, 6))\n",
        "    sns.countplot(data=df, x='hour', palette='coolwarm')\n",
        "    plt.title('Accidents by Hour of Day')\n",
        "    plt.show()\n",
        "\n",
        "    # Visualize accidents by road condition type\n",
        "    plt.figure(figsize=(12, 6))\n",
        "    sns.countplot(data=df, x='ROAD_CONDITION', order=df['ROAD_CONDITION'].value_counts().index)\n",
        "    plt.xticks(rotation=45, ha='right')\n",
        "    plt.title('Accidents by Road Condition')\n",
        "    plt.show()\n",
        "\n",
        "    # Heatmap to visualize accident hotspots on a map using Folium\n",
        "    import folium\n",
        "    from folium.plugins import HeatMap\n",
        "\n",
        "    m = folium.Map(location=[df['LATITUDE'].mean(), df['LONGITUDE'].mean()], zoom_start=10)\n",
        "    heat_data = [[row['LATITUDE'], row['LONGITUDE']] for index, row in df.iterrows()]\n",
        "    HeatMap(heat_data).add_to(m)\n",
        "\n",
        "    # Save the map as an HTML file\n",
        "    m.save(\"accident_hotspots_map.html\")\n",
        "\n",
        "    # Show the map (Jupyter notebooks support displaying HTML directly)\n",
        "    m\n",
        "\n",
        "except Exception as e:\n",
        "    print(f\"An error occurred: {e}\")\n"
      ],
      "metadata": {
        "colab": {
          "base_uri": "https://localhost:8080/"
        },
        "id": "-dnh8IS6LW9v",
        "outputId": "a9ba6b87-ca99-45b3-b53c-056edb0d6a4c"
      },
      "execution_count": 15,
      "outputs": [
        {
          "output_type": "stream",
          "name": "stdout",
          "text": [
            "An error occurred: File is not a zip file\n"
          ]
        }
      ]
    }
  ]
}