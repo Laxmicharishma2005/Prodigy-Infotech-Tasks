{
  "nbformat": 4,
  "nbformat_minor": 0,
  "metadata": {
    "colab": {
      "provenance": []
    },
    "kernelspec": {
      "name": "python3",
      "display_name": "Python 3"
    },
    "language_info": {
      "name": "python"
    }
  },
  "cells": [
    {
      "cell_type": "code",
      "source": [
        "import pandas as pd\n",
        "from sklearn.model_selection import train_test_split\n",
        "from sklearn.tree import DecisionTreeClassifier\n",
        "from sklearn.metrics import accuracy_score, classification_report, confusion_matrix\n",
        "\n",
        "# Load the dataset\n",
        "df = pd.read_csv('/content/bank.csv')\n",
        "\n",
        "# Convert the categorical variables to numerical variables\n",
        "df['job'] = pd.Categorical(df['job']).codes\n",
        "df['marital'] = pd.Categorical(df['marital']).codes\n",
        "df['education'] = pd.Categorical(df['education']).codes\n",
        "df['default'] = pd.Categorical(df['default']).codes\n",
        "df['housing'] = pd.Categorical(df['housing']).codes\n",
        "df['loan'] = pd.Categorical(df['loan']).codes\n",
        "df['contact'] = pd.Categorical(df['contact']).codes\n",
        "df['month'] = pd.Categorical(df['month']).codes\n",
        "df['poutcome'] = pd.Categorical(df['poutcome']).codes\n",
        "\n",
        "# Define the features and target variable\n",
        "X = df.drop('deposit', axis=1)\n",
        "y = df['deposit']\n",
        "\n",
        "# Split the data into training and testing sets\n",
        "X_train, X_test, y_train, y_test = train_test_split(X, y, test_size=0.2, random_state=42)\n",
        "\n",
        "# Create a decision tree classifier\n",
        "clf = DecisionTreeClassifier(random_state=42)\n",
        "\n",
        "# Train the classifier\n",
        "clf.fit(X_train, y_train)\n",
        "\n",
        "# Make predictions on the testing set\n",
        "y_pred = clf.predict(X_test)\n",
        "\n",
        "# Evaluate the classifier\n",
        "accuracy = accuracy_score(y_test, y_pred)\n",
        "print(\"Accuracy:\", accuracy)\n",
        "print(\"Classification Report:\")\n",
        "print(classification_report(y_test, y_pred))\n",
        "print(\"Confusion Matrix:\")\n",
        "print(confusion_matrix(y_test, y_pred))"
      ],
      "metadata": {
        "id": "2qPil0Td-vb1",
        "outputId": "aad58de5-ce77-43bb-be52-fdf799195259",
        "colab": {
          "base_uri": "https://localhost:8080/"
        }
      },
      "execution_count": 4,
      "outputs": [
        {
          "output_type": "stream",
          "name": "stdout",
          "text": [
            "Accuracy: 0.7630989699955217\n",
            "Classification Report:\n",
            "              precision    recall  f1-score   support\n",
            "\n",
            "          no       0.77      0.78      0.78      1166\n",
            "         yes       0.76      0.74      0.75      1067\n",
            "\n",
            "    accuracy                           0.76      2233\n",
            "   macro avg       0.76      0.76      0.76      2233\n",
            "weighted avg       0.76      0.76      0.76      2233\n",
            "\n",
            "Confusion Matrix:\n",
            "[[915 251]\n",
            " [278 789]]\n"
          ]
        }
      ]
    }
  ]
}